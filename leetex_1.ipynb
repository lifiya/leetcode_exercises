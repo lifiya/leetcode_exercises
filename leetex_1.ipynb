{
 "cells": [
  {
   "cell_type": "markdown",
   "metadata": {},
   "source": [
    "This is exercise 2073 from <a href=\"https://leetcode.com/problems/time-needed-to-buy-tickets/description/\"> leetcodes </a>"
   ]
  },
  {
   "cell_type": "code",
   "execution_count": 32,
   "metadata": {},
   "outputs": [],
   "source": [
    "def time_to_buy(ar:int, k:int) -> int:\n",
    "    '''\n",
    "    The while loop runs infinitely until the target (ar[k]) has reached zero. \n",
    "    Function take each element of the array , check if its zero , decrements it otherwise and increments time\n",
    "    If the element is zero and is the target element , the function returns the time (total)\n",
    "\n",
    "    '''\n",
    "    time=0\n",
    "    while True:\n",
    "        for index,_ in enumerate(ar):\n",
    "            if ar[k]==0:\n",
    "                return time\n",
    "            if ar[index]!=0:               \n",
    "                ar[index]-=1\n",
    "                time+=1               \n",
    "                if index==k and ar[k]==0:\n",
    "                    return time\n",
    "          \n",
    "#print(f\"array in loop {ar}\")\n",
    "#print(f\"current position is {index} and element is {e}\")\n",
    "#print(f\"value of target is {ar[k]}\")\n",
    "\n",
    "#print(f\"{e} is not zero\")   \n",
    "\n",
    "\n",
    "#print(f\"array after update is {ar}\")\n",
    "#print(f\"time is {time}\")\n",
    "        \n",
    "    \n",
    "    \n",
    "\n",
    "           \n"
   ]
  },
  {
   "cell_type": "code",
   "execution_count": 33,
   "metadata": {},
   "outputs": [
    {
     "name": "stdout",
     "output_type": "stream",
     "text": [
      "12\n"
     ]
    }
   ],
   "source": [
    "if __name__=='__main__':\n",
    "    t=time_to_buy([3,4,5],2)\n",
    "    print(t)\n"
   ]
  },
  {
   "cell_type": "code",
   "execution_count": 36,
   "metadata": {},
   "outputs": [
    {
     "name": "stdout",
     "output_type": "stream",
     "text": [
      "Help on function time_to_buy in module __main__:\n",
      "\n",
      "time_to_buy(ar: int, k: int) -> int\n",
      "    The while loop runs infinitely until the target (ar[k]) has reached zero. \n",
      "    Function take each element of the array , check if its zero , decrements it otherwise and increments time\n",
      "    If the element is zero and is the target element , the function returns the time (total)\n",
      "\n"
     ]
    }
   ],
   "source": [
    "\n",
    "help(time_to_buy)"
   ]
  }
 ],
 "metadata": {
  "kernelspec": {
   "display_name": "Python 3",
   "language": "python",
   "name": "python3"
  },
  "language_info": {
   "codemirror_mode": {
    "name": "ipython",
    "version": 3
   },
   "file_extension": ".py",
   "mimetype": "text/x-python",
   "name": "python",
   "nbconvert_exporter": "python",
   "pygments_lexer": "ipython3",
   "version": "3.11.0"
  }
 },
 "nbformat": 4,
 "nbformat_minor": 2
}

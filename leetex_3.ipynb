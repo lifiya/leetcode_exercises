{
 "cells": [
  {
   "cell_type": "markdown",
   "metadata": {},
   "source": [
    "This is exercise 2092 from <a href=\"https://leetcode.com/problems/find-all-people-with-secret/description/\">leetcodes </a>"
   ]
  },
  {
   "cell_type": "markdown",
   "metadata": {},
   "source": [
    "Step 1: get the values of time from the meetings"
   ]
  },
  {
   "cell_type": "code",
   "execution_count": 157,
   "metadata": {},
   "outputs": [],
   "source": [
    "def get_times(meetings:list) ->list:\n",
    "    '''Input: \n",
    "       meetings: 2D array with meetings[i] having the sender , receiver and time at indices 0 , 1 and 2 respectively\n",
    "       Output: \n",
    "       times : the list of times for the meetings\n",
    "    '''\n",
    "    times=[]\n",
    "    for meeting in meetings:\n",
    "        times.append(meeting[2])\n",
    "    return times"
   ]
  },
  {
   "cell_type": "code",
   "execution_count": 158,
   "metadata": {},
   "outputs": [
    {
     "name": "stdout",
     "output_type": "stream",
     "text": [
      "[5, 8, 10]\n"
     ]
    }
   ],
   "source": [
    "print(get_times([[1,2,5],[2,3,8],[1,5,10]]))"
   ]
  },
  {
   "cell_type": "markdown",
   "metadata": {},
   "source": [
    "Step 2: create the initial set up with person 0 and firstperson added to the list of people who has the secret"
   ]
  },
  {
   "cell_type": "code",
   "execution_count": 159,
   "metadata": {},
   "outputs": [],
   "source": [
    "def first_secret(firstperson:int,arr_person0:list)->list:\n",
    "    '''Input:\n",
    "       firstperson : the person to which person0 shares the secret at time 0 \n",
    "       arr_person0 : the array with person0 \n",
    "       Output:\n",
    "       arr_person0 : the list with person0 and firstperson appended\n",
    "       '''\n",
    "    arr_person0.append(firstperson)\n",
    "    return arr_person0\n",
    "\n",
    "#append is an inplace operator . return arr_person0.append(firstperson) returns none because its not making an outward change y , rather inward"
   ]
  },
  {
   "cell_type": "code",
   "execution_count": 160,
   "metadata": {},
   "outputs": [
    {
     "name": "stdout",
     "output_type": "stream",
     "text": [
      "[0, 3]\n"
     ]
    }
   ],
   "source": [
    "print(first_secret(3,[0]))"
   ]
  },
  {
   "cell_type": "markdown",
   "metadata": {},
   "source": [
    "Step 3: Create dictionary with the keys being the times and values being the list of meetings happening at that time (2D incase multiple meetings are happening at the same time). "
   ]
  },
  {
   "cell_type": "code",
   "execution_count": 161,
   "metadata": {},
   "outputs": [],
   "source": [
    "def create_dict(meeting:list,dictionary:dict)->dict:\n",
    "    '''\n",
    "    Input:\n",
    "    meeting : 1D list having the sender , receiver and time at indices 0 , 1 and 2 respectively\n",
    "    dictionary: holds the meeting dictionary with time as the key , the value is a list of sender and receiver pair . Initially empty.\n",
    "    Output:\n",
    "    dictionary: holds the meeting dictionary with time as the key , the value is a list of sender and receiver pair\n",
    "    '''\n",
    "    dict_key=meeting[2]\n",
    "    dict_value=[meeting[0],meeting[1]]\n",
    "    if dict_key in dictionary.keys():\n",
    "        dictionary[dict_key].append(dict_value)\n",
    "    else:\n",
    "        dictionary[dict_key]=[dict_value]\n",
    "    return dictionary"
   ]
  },
  {
   "cell_type": "code",
   "execution_count": 162,
   "metadata": {},
   "outputs": [
    {
     "name": "stdout",
     "output_type": "stream",
     "text": [
      "{3: [[1, 2]]}\n",
      "{3: [[1, 2]], 6: [[4, 5]]}\n",
      "{3: [[1, 2], [7, 8]], 6: [[4, 5]]}\n",
      "{3: [[1, 2], [7, 8]], 6: [[4, 5]], 2: [[10, 11]]}\n"
     ]
    }
   ],
   "source": [
    "x=create_dict([1,2,3],{})\n",
    "print(x)\n",
    "y=create_dict([4,5,6],x)\n",
    "print(y)\n",
    "z=create_dict([7,8,3],y)\n",
    "print(z)\n",
    "alpha=create_dict([10,11,2],z)\n",
    "print(alpha)\n",
    "\n",
    "\n"
   ]
  },
  {
   "cell_type": "markdown",
   "metadata": {},
   "source": [
    "Step 4: Sort the list so we maintain the sequential order to know if $x_i$ knows the secret at time $t_i$ to pass it to $y_i$ "
   ]
  },
  {
   "cell_type": "code",
   "execution_count": 163,
   "metadata": {},
   "outputs": [],
   "source": [
    "def sort_dict(dictionary:dict)->dict:\n",
    "    '''\n",
    "    Input:\n",
    "    dictionary: (unsorted) holds the meeting dictionary with time as the key , the value is a list of sender and receiver pair \n",
    "    Output:\n",
    "    dictionary: (sorted by key) holds the meeting dictionary with time as the key , the value is a list of sender and receiver pair \n",
    "\n",
    "    '''\n",
    "    return sorted(dictionary.items(),key=lambda x :x[0])"
   ]
  },
  {
   "cell_type": "code",
   "execution_count": 164,
   "metadata": {},
   "outputs": [
    {
     "data": {
      "text/plain": [
       "[(2, [[10, 11]]), (3, [[1, 2], [7, 8]]), (6, [[4, 5]])]"
      ]
     },
     "execution_count": 164,
     "metadata": {},
     "output_type": "execute_result"
    }
   ],
   "source": [
    "\n",
    "sort_dict(alpha)"
   ]
  },
  {
   "cell_type": "markdown",
   "metadata": {},
   "source": [
    "Step 5 : Using the functions created in the earlier steps , create the `meeting_dict` . Using the keys of `meeting_dict` (which is the time) create a list `time_keys`. Iterating over `time_keys`, check if each meeting (named `value`) from the meeting list (named `values`) for that `time` , check if `value[0]` : the sender is in `secret_arr`. If they are , they have the secret and can pass it to `value[1]`: the receiver (which effectively adds `value[1]` to the `secret_arr`)"
   ]
  },
  {
   "cell_type": "code",
   "execution_count": 165,
   "metadata": {},
   "outputs": [],
   "source": [
    "def has_secret(meetings:list,first_person:int,secret_list=[0])->list: \n",
    "    '''\n",
    "    Input:\n",
    "    meetings: 2D array with meetings[i] having the sender , receiver and time at indices 0 , 1 and 2 respectively\n",
    "    firstperson : the person to which person0 shares the secret at time 0 \n",
    "    secret_list: list of people who have recieved the secret (initally contains person0)\n",
    "    Output:\n",
    "    secret_list: list of all people who have recieved the secret after the meetings\n",
    "    '''\n",
    "    secret_arr=secret_list.copy() #else the values from previous input arguments get appended to secret_array\n",
    "    meeting_dict={}\n",
    "    first_secret(first_person,secret_arr)\n",
    "    time_arr=get_times(meetings)\n",
    "    for index,_ in enumerate(time_arr):\n",
    "        create_dict(meetings[index],meeting_dict)\n",
    "    meeting_dict=dict(sort_dict(meeting_dict))\n",
    "    \n",
    "    time_keys=meeting_dict.keys()\n",
    "    for time in time_keys:\n",
    "        values=meeting_dict[time]\n",
    "        for value in values:\n",
    "            if value[0] in secret_arr and value[1] not in secret_arr: #second condition is to remove duplicates in the final array\n",
    "                new_sender=value[1]\n",
    "                secret_arr.append(new_sender)\n",
    "\n",
    "    return secret_arr\n",
    "    \n",
    "        \n"
   ]
  },
  {
   "cell_type": "code",
   "execution_count": 168,
   "metadata": {},
   "outputs": [
    {
     "name": "stdout",
     "output_type": "stream",
     "text": [
      "[0, 1, 2, 3, 5]\n"
     ]
    }
   ],
   "source": [
    "if __name__==\"__main__\":\n",
    "    dummy=[[1,2,5],[2,3,8],[1,5,10]]\n",
    "    secret_list=has_secret(dummy,1)\n",
    "    print(secret_list)\n"
   ]
  },
  {
   "cell_type": "code",
   "execution_count": 167,
   "metadata": {},
   "outputs": [
    {
     "name": "stdout",
     "output_type": "stream",
     "text": [
      "Help on function has_secret in module __main__:\n",
      "\n",
      "has_secret(meetings: list, first_person: int, secret_list=[0]) -> list\n",
      "    Input:\n",
      "    meetings: 2D array with meetings[i] having the sender , receiver and time at indices 0 , 1 and 2 respectively\n",
      "    firstperson : the person to which person0 shares the secret at time 0 \n",
      "    secret_list: list of people who have recieved the secret (initally contains person0)\n",
      "    Output:\n",
      "    secret_list: list of all people who have recieved the secret after the meetings\n",
      "\n"
     ]
    }
   ],
   "source": [
    "help(has_secret)"
   ]
  }
 ],
 "metadata": {
  "kernelspec": {
   "display_name": "Python 3",
   "language": "python",
   "name": "python3"
  },
  "language_info": {
   "codemirror_mode": {
    "name": "ipython",
    "version": 3
   },
   "file_extension": ".py",
   "mimetype": "text/x-python",
   "name": "python",
   "nbconvert_exporter": "python",
   "pygments_lexer": "ipython3",
   "version": "3.11.0"
  }
 },
 "nbformat": 4,
 "nbformat_minor": 2
}

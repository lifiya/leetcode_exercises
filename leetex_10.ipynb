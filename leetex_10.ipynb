{
 "cells": [
  {
   "cell_type": "markdown",
   "metadata": {},
   "source": [
    "This is exercise 20 from <a href=\"https://leetcode.com/problems/valid-parentheses/description/\">leetcode</a>"
   ]
  },
  {
   "cell_type": "code",
   "execution_count": 1,
   "metadata": {},
   "outputs": [],
   "source": [
    "def open_bracket(close_bracket:str)->str:\n",
    "    brackets={\n",
    "        \"}\":\"{\",\n",
    "        \")\":\"(\",\n",
    "        \"]\":\"[\",\n",
    "    }\n",
    "    return brackets[close_bracket]"
   ]
  },
  {
   "cell_type": "code",
   "execution_count": 2,
   "metadata": {},
   "outputs": [],
   "source": [
    "def reverse_list(org_list:list)->list:\n",
    "    r=org_list[::-1]\n",
    "    return r"
   ]
  },
  {
   "cell_type": "code",
   "execution_count": 5,
   "metadata": {},
   "outputs": [],
   "source": [
    "def solution(s:str)->bool:\n",
    "    o_bracket=[\"(\",\"{\",\"[\"]\n",
    "    o=[] #stack to store open brackets \n",
    "    s_list=list(s)\n",
    "\n",
    "    for bracket in s_list:\n",
    "        if bracket in o_bracket:\n",
    "            o.append(bracket)\n",
    "        else:\n",
    "            req_open=open_bracket(bracket)\n",
    "            open=o.pop()\n",
    "            if open!=req_open:\n",
    "                return False\n",
    "    return True\n",
    "                \n",
    "\n",
    "\n"
   ]
  },
  {
   "cell_type": "code",
   "execution_count": 6,
   "metadata": {},
   "outputs": [
    {
     "name": "stdout",
     "output_type": "stream",
     "text": [
      "True\n",
      "False\n",
      "True\n",
      "True\n"
     ]
    }
   ],
   "source": [
    "print(solution(\"()[]{}\"))\n",
    "print(solution(\"(]\"))\n",
    "print(solution(\"([]{})\"))\n",
    "print(solution(\"[()]{}\"))\n"
   ]
  }
 ],
 "metadata": {
  "kernelspec": {
   "display_name": "Python 3",
   "language": "python",
   "name": "python3"
  },
  "language_info": {
   "codemirror_mode": {
    "name": "ipython",
    "version": 3
   },
   "file_extension": ".py",
   "mimetype": "text/x-python",
   "name": "python",
   "nbconvert_exporter": "python",
   "pygments_lexer": "ipython3",
   "version": "3.11.0"
  }
 },
 "nbformat": 4,
 "nbformat_minor": 2
}

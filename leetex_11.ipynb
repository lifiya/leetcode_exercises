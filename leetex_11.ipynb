{
 "cells": [
  {
   "cell_type": "markdown",
   "metadata": {},
   "source": [
    "This is exercise 3080 from <a href=\"https://leetcode.com/problems/mark-elements-on-array-by-performing-queries/description/\">leetcode </a>"
   ]
  },
  {
   "cell_type": "code",
   "execution_count": 1,
   "metadata": {},
   "outputs": [],
   "source": [
    "def nums_dict(nums:list)->dict:\n",
    "    n_dict={}\n",
    "    for index,value in enumerate(nums):\n",
    "        key=index\n",
    "        n_dict[key]=value\n",
    "    return n_dict\n",
    "\n"
   ]
  },
  {
   "cell_type": "code",
   "execution_count": 2,
   "metadata": {},
   "outputs": [
    {
     "name": "stdout",
     "output_type": "stream",
     "text": [
      "{0: 1, 1: 2, 2: 2, 3: 1, 4: 2, 5: 3, 6: 1}\n"
     ]
    }
   ],
   "source": [
    "n_dict=nums_dict([1,2,2,1,2,3,1])\n",
    "print(n_dict)"
   ]
  },
  {
   "cell_type": "code",
   "execution_count": 3,
   "metadata": {},
   "outputs": [],
   "source": [
    "def mark_index(query:list,marked_dict:dict,nums_dict:dict)->tuple[dict,int]:\n",
    "    index=query[0]\n",
    "    marked_index=index\n",
    "    marked_dict[index]=nums_dict[index]\n",
    "    return marked_dict,marked_index\n",
    "    \n",
    "    \n"
   ]
  },
  {
   "cell_type": "code",
   "execution_count": 4,
   "metadata": {},
   "outputs": [
    {
     "name": "stdout",
     "output_type": "stream",
     "text": [
      "{1: 2}\n"
     ]
    }
   ],
   "source": [
    "q1=[1,2]\n",
    "m_dict_1={}\n",
    "m_dict_2,m_list_1=mark_index(q1,m_dict_1,n_dict)\n",
    "print(m_dict_2)"
   ]
  },
  {
   "cell_type": "code",
   "execution_count": 5,
   "metadata": {},
   "outputs": [],
   "source": [
    "def sort_dict(nums_dict:dict)->dict:\n",
    "    sorted_dict={key:value for key,value in sorted(nums_dict.items(),key=lambda item:item[1])}\n",
    "    return sorted_dict"
   ]
  },
  {
   "cell_type": "code",
   "execution_count": 6,
   "metadata": {},
   "outputs": [
    {
     "name": "stdout",
     "output_type": "stream",
     "text": [
      "{0: 1, 3: 1, 6: 1, 1: 2, 2: 2, 4: 2, 5: 3}\n"
     ]
    }
   ],
   "source": [
    "s_n_dict=sort_dict(n_dict)\n",
    "print(s_n_dict)"
   ]
  },
  {
   "cell_type": "code",
   "execution_count": 7,
   "metadata": {},
   "outputs": [],
   "source": [
    "def mark_k(query:list,marked_dict:dict,nums_dict:dict,marked_index_list)->tuple[dict,list]:\n",
    "    n_dict=sort_dict(nums_dict)\n",
    "    k_values=query[1]\n",
    "    keys=[]\n",
    "    n_keys=list(n_dict.keys())\n",
    "    for k in n_keys:\n",
    "        if k not in marked_index_list:\n",
    "            keys.append(k)\n",
    "    k_keys=keys[0:k_values]\n",
    "    for k_key in k_keys:\n",
    "        marked_dict[k_key]=n_dict[k_key]\n",
    "        marked_index_list.append(k_key)\n",
    "    return marked_dict,marked_index_list\n",
    "\n",
    "    "
   ]
  },
  {
   "cell_type": "code",
   "execution_count": 8,
   "metadata": {},
   "outputs": [],
   "source": [
    "def unmarked_sum(marked_list:list,num_dict:dict)->int:\n",
    "    sum=0\n",
    "    num_dict_keys=list(num_dict)\n",
    "    for key in num_dict_keys:\n",
    "        if key not in marked_list:\n",
    "            sum+=num_dict[key]\n",
    "    return sum\n"
   ]
  },
  {
   "cell_type": "code",
   "execution_count": 11,
   "metadata": {},
   "outputs": [],
   "source": [
    "def solution(nums:list,queries:list[list])->list:\n",
    "    marked_dict={}\n",
    "    marked_index_list=[]\n",
    "    sum_list=[]\n",
    "    n_dict=nums_dict(nums)\n",
    "\n",
    "   \n",
    "    sorted_n_dict=sort_dict(n_dict)\n",
    "\n",
    "    for query in queries:\n",
    "        marked_dict,marked_index=mark_index(query,marked_dict,n_dict)\n",
    "        if marked_index not in marked_index_list:\n",
    "            marked_index_list.append(marked_index)\n",
    "        marked_dict,marked_list=mark_k(query,marked_dict,sorted_n_dict,marked_index_list)\n",
    "        sum_list.append(unmarked_sum(marked_list,n_dict))\n",
    "        \n",
    "  \n",
    "    return sum_list\n",
    "    "
   ]
  },
  {
   "cell_type": "code",
   "execution_count": 13,
   "metadata": {},
   "outputs": [
    {
     "name": "stdout",
     "output_type": "stream",
     "text": [
      "[7]\n"
     ]
    }
   ],
   "source": [
    "if __name__==\"__main__\":\n",
    "    answer=solution([1,4,2,3], [[0,1]])\n",
    "    print(answer)"
   ]
  }
 ],
 "metadata": {
  "kernelspec": {
   "display_name": "Python 3",
   "language": "python",
   "name": "python3"
  },
  "language_info": {
   "codemirror_mode": {
    "name": "ipython",
    "version": 3
   },
   "file_extension": ".py",
   "mimetype": "text/x-python",
   "name": "python",
   "nbconvert_exporter": "python",
   "pygments_lexer": "ipython3",
   "version": "3.11.0"
  }
 },
 "nbformat": 4,
 "nbformat_minor": 2
}

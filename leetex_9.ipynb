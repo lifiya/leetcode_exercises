{
 "cells": [
  {
   "cell_type": "markdown",
   "metadata": {},
   "source": [
    "This is exercise 2877 from <a href=\"https://leetcode.com/problems/create-a-dataframe-from-list/description/\">leetcode </a>"
   ]
  },
  {
   "cell_type": "code",
   "execution_count": 1,
   "metadata": {},
   "outputs": [],
   "source": [
    "import pandas as pd"
   ]
  },
  {
   "cell_type": "code",
   "execution_count": 2,
   "metadata": {},
   "outputs": [],
   "source": [
    "from tabulate import tabulate"
   ]
  },
  {
   "cell_type": "code",
   "execution_count": 3,
   "metadata": {},
   "outputs": [],
   "source": [
    "def create_dataframe(student_data:list[list[int]]):\n",
    "    student_df=pd.DataFrame(student_data,columns=['student_id','age'])\n",
    "    return student_df"
   ]
  },
  {
   "cell_type": "code",
   "execution_count": 4,
   "metadata": {},
   "outputs": [],
   "source": [
    "d=create_dataframe([\n",
    "  [1, 15],\n",
    "  [2, 11],\n",
    "  [3, 11],\n",
    "  [4, 20]\n",
    "])\n",
    "\n"
   ]
  },
  {
   "cell_type": "code",
   "execution_count": 5,
   "metadata": {},
   "outputs": [],
   "source": [
    "def df_table(student_df:pd.DataFrame):\n",
    "    student_tb=tabulate(student_df,headers='keys',tablefmt='psql',showindex=False)\n",
    "    return student_tb"
   ]
  },
  {
   "cell_type": "code",
   "execution_count": 6,
   "metadata": {},
   "outputs": [],
   "source": [
    "def solution(student_data:list[list[int]]):\n",
    "    student_df=create_dataframe(student_data)\n",
    "    student_table=df_table(student_df)\n",
    "    print(student_table)"
   ]
  },
  {
   "cell_type": "code",
   "execution_count": 7,
   "metadata": {},
   "outputs": [
    {
     "name": "stdout",
     "output_type": "stream",
     "text": [
      "+--------------+-------+\n",
      "|   student_id |   age |\n",
      "|--------------+-------|\n",
      "|            1 |    15 |\n",
      "|            2 |    11 |\n",
      "|            3 |    11 |\n",
      "|            4 |    20 |\n",
      "+--------------+-------+\n"
     ]
    }
   ],
   "source": [
    "if __name__=='__main__':\n",
    "    student_data_1=[\n",
    "  [1, 15],\n",
    "  [2, 11],\n",
    "  [3, 11],\n",
    "  [4, 20]\n",
    "]\n",
    "    solution(student_data_1)"
   ]
  }
 ],
 "metadata": {
  "kernelspec": {
   "display_name": "Python 3",
   "language": "python",
   "name": "python3"
  },
  "language_info": {
   "codemirror_mode": {
    "name": "ipython",
    "version": 3
   },
   "file_extension": ".py",
   "mimetype": "text/x-python",
   "name": "python",
   "nbconvert_exporter": "python",
   "pygments_lexer": "ipython3",
   "version": "3.11.0"
  }
 },
 "nbformat": 4,
 "nbformat_minor": 2
}

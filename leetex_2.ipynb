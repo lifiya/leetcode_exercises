{
 "cells": [
  {
   "cell_type": "markdown",
   "metadata": {},
   "source": [
    "This is exercise 1291 from <a href=\"https://leetcode.com/problems/sequential-digits/description/\"> leetcodes </a>(<i> My version </i> (I refuse to python Class for this))"
   ]
  },
  {
   "cell_type": "code",
   "execution_count": 95,
   "metadata": {},
   "outputs": [],
   "source": [
    "def length(x:int):\n",
    "    '''length of x'''\n",
    "    x=str(x)\n",
    "    return len(x)"
   ]
  },
  {
   "cell_type": "code",
   "execution_count": 96,
   "metadata": {},
   "outputs": [],
   "source": [
    "\n",
    "def msb(x:int):\n",
    "    '''retrieves the most significant bit '''\n",
    "    x_length=length(x)\n",
    "    return int(x/(10**(x_length-1)))"
   ]
  },
  {
   "cell_type": "code",
   "execution_count": 97,
   "metadata": {},
   "outputs": [],
   "source": [
    "\n",
    "def sequence(x_msb:int,x_length:int) -> int: \n",
    "    '''generates the sequence for the given msb and length'''\n",
    "    next_num=x_msb+1\n",
    "    sequence=str(x_msb)\n",
    "    for k in range(x_length-1):\n",
    "        if len(str(next_num))<2:\n",
    "            sequence+=str(next_num)\n",
    "            next_num+=1\n",
    "    return int(sequence)\n",
    "            \n"
   ]
  },
  {
   "cell_type": "code",
   "execution_count": 98,
   "metadata": {},
   "outputs": [],
   "source": [
    "\n",
    "def sequential(ar) -> list:\n",
    "    '''In the given range (low , hight), find all the values that equals the output of the sequence function'''\n",
    "    sequence_list=[]\n",
    "    for x in range(ar[0],ar[1]+1):\n",
    "        x_msb=msb(x)\n",
    "        x_length=length(x)\n",
    "        msb_sequence=sequence(x_msb,x_length)\n",
    "        if x==msb_sequence:\n",
    "            sequence_list.append(x)\n",
    "    return sequence_list"
   ]
  },
  {
   "cell_type": "code",
   "execution_count": 104,
   "metadata": {},
   "outputs": [
    {
     "name": "stdout",
     "output_type": "stream",
     "text": [
      "[234, 345, 456, 567, 678, 789, 1234]\n"
     ]
    }
   ],
   "source": [
    "if __name__==\"__main__\":\n",
    "    x=sequential([200,1234])\n",
    "    print(x)"
   ]
  }
 ],
 "metadata": {
  "kernelspec": {
   "display_name": "Python 3",
   "language": "python",
   "name": "python3"
  },
  "language_info": {
   "codemirror_mode": {
    "name": "ipython",
    "version": 3
   },
   "file_extension": ".py",
   "mimetype": "text/x-python",
   "name": "python",
   "nbconvert_exporter": "python",
   "pygments_lexer": "ipython3",
   "version": "3.11.0"
  }
 },
 "nbformat": 4,
 "nbformat_minor": 2
}

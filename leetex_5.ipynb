{
 "cells": [
  {
   "cell_type": "markdown",
   "metadata": {},
   "source": [
    "This is exercise 551 from <a href=\"https://leetcode.com/problems/student-attendance-record-i/description/\">leetcode</a>"
   ]
  },
  {
   "cell_type": "code",
   "execution_count": 1,
   "metadata": {},
   "outputs": [],
   "source": [
    "import re"
   ]
  },
  {
   "cell_type": "code",
   "execution_count": 2,
   "metadata": {},
   "outputs": [],
   "source": [
    "def count_A(s:str)->int:\n",
    "    '''counts the number of As in the string s'''\n",
    "    return s.upper().count('A')"
   ]
  },
  {
   "cell_type": "code",
   "execution_count": 3,
   "metadata": {},
   "outputs": [],
   "source": [
    "def late(s:str)->int:\n",
    "    '''Returns True if the input string s contains 3 or more consecutive L'''\n",
    "    s=s.upper()\n",
    "    p=re.search(r\"LLL(L)*\",s)\n",
    "    if p is None:\n",
    "        pos=False\n",
    "    else:\n",
    "        pos=True\n",
    "    return pos\n",
    "    "
   ]
  },
  {
   "cell_type": "code",
   "execution_count": 4,
   "metadata": {},
   "outputs": [],
   "source": [
    "def solution(s:str)->bool:\n",
    "    '''Returns true if s either has 2 or more A or if it contains 3 or more consective L'''\n",
    "    if count_A(s)>=2 or late(s):\n",
    "        return False\n",
    "    else:\n",
    "        return True"
   ]
  },
  {
   "cell_type": "code",
   "execution_count": 5,
   "metadata": {},
   "outputs": [
    {
     "name": "stdout",
     "output_type": "stream",
     "text": [
      "True\n",
      "False\n"
     ]
    }
   ],
   "source": [
    "if __name__==\"__main__\":\n",
    "    print(solution(\"PPALLP\"))\n",
    "    print(solution(\"PPALLL\"))"
   ]
  }
 ],
 "metadata": {
  "kernelspec": {
   "display_name": "Python 3",
   "language": "python",
   "name": "python3"
  },
  "language_info": {
   "codemirror_mode": {
    "name": "ipython",
    "version": 3
   },
   "file_extension": ".py",
   "mimetype": "text/x-python",
   "name": "python",
   "nbconvert_exporter": "python",
   "pygments_lexer": "ipython3",
   "version": "3.11.0"
  }
 },
 "nbformat": 4,
 "nbformat_minor": 2
}

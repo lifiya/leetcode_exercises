{
 "cells": [
  {
   "cell_type": "markdown",
   "metadata": {},
   "source": [
    "This is exercise 2303 from <a href=\"https://leetcode.com/problems/calculate-amount-paid-in-taxes/description/\"> leetcode </a>"
   ]
  },
  {
   "cell_type": "code",
   "execution_count": 1,
   "metadata": {},
   "outputs": [],
   "source": [
    "def solution(brackets:list,income:int) -> float:\n",
    "    total=0\n",
    "    income_left=income\n",
    "\n",
    "    for index,bracket in enumerate(brackets):\n",
    "        if income_left>0:\n",
    "            if index==0:\n",
    "                if income_left>bracket[0]: #(check which is greater the upper value of the bracket or income left)\n",
    "                    total+=bracket[0]*bracket[1]/100 #upper0*percent0\n",
    "                else:\n",
    "                    total+=income_left*bracket[1]/100 #income_left*percent0\n",
    "\n",
    "                income_left=income_left-bracket[0]\n",
    "     \n",
    "                \n",
    "            else:\n",
    "                \n",
    "                to_subtract=bracket[0]-brackets[index-1][0]\n",
    "     \n",
    "                if income_left > to_subtract:\n",
    "                    total+=to_subtract*bracket[1]/100\n",
    "                else:\n",
    "                    total+=income_left*bracket[1]/100\n",
    "\n",
    "                income_left=income_left-to_subtract\n",
    "\n",
    "        if income_left==0:\n",
    "            total=0\n",
    "    return float(total)\n",
    "            \n",
    "            \n"
   ]
  },
  {
   "cell_type": "code",
   "execution_count": 2,
   "metadata": {},
   "outputs": [
    {
     "name": "stdout",
     "output_type": "stream",
     "text": [
      "2.65\n",
      "0.25\n",
      "0.0\n"
     ]
    }
   ],
   "source": [
    "if __name__==\"__main__\":\n",
    "    brackets_1= [[3,50],[7,10],[12,25]]\n",
    "    income_1= 10\n",
    "\n",
    "    brackets_2= [[1,0],[4,25],[5,50]]\n",
    "    income_2= 2\n",
    "\n",
    "    brackets_3= [[2,50]]\n",
    "    income_3=0\n",
    "\n",
    "    print(solution(brackets_1,income_1))\n",
    "    print(solution(brackets_2,income_2))\n",
    "    print(solution(brackets_3,income_3))"
   ]
  }
 ],
 "metadata": {
  "kernelspec": {
   "display_name": "Python 3",
   "language": "python",
   "name": "python3"
  },
  "language_info": {
   "codemirror_mode": {
    "name": "ipython",
    "version": 3
   },
   "file_extension": ".py",
   "mimetype": "text/x-python",
   "name": "python",
   "nbconvert_exporter": "python",
   "pygments_lexer": "ipython3",
   "version": "3.11.0"
  }
 },
 "nbformat": 4,
 "nbformat_minor": 2
}

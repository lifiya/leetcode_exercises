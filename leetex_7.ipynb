{
 "cells": [
  {
   "cell_type": "markdown",
   "metadata": {},
   "source": [
    "This is exercise 621 from <a href=\"https://leetcode.com/problems/task-scheduler/description/\">leetcode</a>"
   ]
  },
  {
   "cell_type": "code",
   "execution_count": 1,
   "metadata": {},
   "outputs": [],
   "source": [
    "dummy=[\"A\",\"A\",\"A\",\"B\",\"B\",\"B\"]"
   ]
  },
  {
   "cell_type": "code",
   "execution_count": 2,
   "metadata": {},
   "outputs": [],
   "source": [
    "def build_none_list(tasks_len:int,n:int)->list:\n",
    "    total_len=tasks_len+(tasks_len*(n+1)) #worst case\n",
    "    schedule_list=[None for index in range(total_len)]\n",
    "    return schedule_list\n"
   ]
  },
  {
   "cell_type": "code",
   "execution_count": 3,
   "metadata": {},
   "outputs": [],
   "source": [
    "dummy_none_list=build_none_list(len(dummy),2)"
   ]
  },
  {
   "cell_type": "code",
   "execution_count": 4,
   "metadata": {},
   "outputs": [],
   "source": [
    "def get_unique_tasks(tasks:list)->str:\n",
    "    unique_tasks=list(set(tasks))\n",
    "    return unique_tasks"
   ]
  },
  {
   "cell_type": "code",
   "execution_count": 5,
   "metadata": {},
   "outputs": [],
   "source": [
    "dummy_unique_tasks=get_unique_tasks(dummy)"
   ]
  },
  {
   "cell_type": "code",
   "execution_count": 6,
   "metadata": {},
   "outputs": [],
   "source": [
    "def count_of_task(unique_task:str,task_list:list)->int:\n",
    "    return task_list.count(unique_task)\n"
   ]
  },
  {
   "cell_type": "code",
   "execution_count": 7,
   "metadata": {},
   "outputs": [],
   "source": [
    "dummy_count_A=count_of_task(\"A\",dummy)\n",
    "dummy_count_B=count_of_task(\"B\",dummy)"
   ]
  },
  {
   "cell_type": "code",
   "execution_count": 8,
   "metadata": {},
   "outputs": [],
   "source": [
    "def schedule_the_task(unique_task:str,task_count:int,n:int,s_list:list)->list: #schedules all occurance of a single tasks by placing them in indices corresponding to cooling time\n",
    "    schedule_list=s_list.copy()\n",
    "    index=0\n",
    "    while task_count>0:\n",
    "        if schedule_list[index] is None:\n",
    "            schedule_list[index]=unique_task\n",
    "            index+=n+1\n",
    "            task_count-=1\n",
    "        else:\n",
    "            index+=1\n",
    "    return schedule_list\n",
    "\n",
    "\n"
   ]
  },
  {
   "cell_type": "code",
   "execution_count": 9,
   "metadata": {},
   "outputs": [
    {
     "name": "stdout",
     "output_type": "stream",
     "text": [
      "['A', None, None, 'A', None, None, 'A', None, None, None, None, None, None, None, None, None, None, None, None, None, None, None, None, None]\n",
      "['A', 'B', None, 'A', 'B', None, 'A', 'B', None, None, None, None, None, None, None, None, None, None, None, None, None, None, None, None]\n"
     ]
    }
   ],
   "source": [
    "schedule_A=schedule_the_task(\"A\",dummy_count_A,2,dummy_none_list)\n",
    "print(schedule_A)\n",
    "schedule_B=schedule_the_task(\"B\",dummy_count_B,2,schedule_A)\n",
    "print(schedule_B)"
   ]
  },
  {
   "cell_type": "code",
   "execution_count": 10,
   "metadata": {},
   "outputs": [],
   "source": [
    "def handle_none(s:list):\n",
    "    s_len=len(s)\n",
    "    for index in range(s_len-1,-1,-1):\n",
    "        if s[index] is None:\n",
    "            s.pop()\n",
    "        else:\n",
    "            break\n",
    "    s_len=len(s) #updated length of s after pop\n",
    "    for index in range(0,s_len):\n",
    "        if s[index] is None:\n",
    "            s[index]=\"idle\"\n",
    "    return s"
   ]
  },
  {
   "cell_type": "code",
   "execution_count": 11,
   "metadata": {},
   "outputs": [
    {
     "name": "stdout",
     "output_type": "stream",
     "text": [
      "['A', 'B', 'idle', 'A', 'B', 'idle', 'A', 'B']\n"
     ]
    }
   ],
   "source": [
    "print(handle_none(schedule_B))"
   ]
  },
  {
   "cell_type": "code",
   "execution_count": 12,
   "metadata": {},
   "outputs": [],
   "source": [
    "def solution(tasks:list,n:int):\n",
    "    task_len=len(tasks)\n",
    "    schedule_list=build_none_list(task_len,n)\n",
    "    unique_tasks=get_unique_tasks(tasks)\n",
    "    for task in unique_tasks:\n",
    "        task_count=count_of_task(task,tasks)\n",
    "        schedule_list=schedule_the_task(task,task_count,n,schedule_list)\n",
    "    handle_none(schedule_list)\n",
    "    schedule_length=len(schedule_list)\n",
    "    return (schedule_list,schedule_length)"
   ]
  },
  {
   "cell_type": "code",
   "execution_count": 13,
   "metadata": {},
   "outputs": [],
   "source": [
    "dummy1=[\"A\",\"A\",\"A\",\"B\",\"B\",\"B\"]\n",
    "n1=2\n",
    "dummy2=[\"A\",\"C\",\"A\",\"B\",\"D\",\"B\"]\n",
    "n2=1\n",
    "dummy3=[\"A\",\"A\",\"A\", \"B\",\"B\",\"B\"]\n",
    "n3=3"
   ]
  },
  {
   "cell_type": "code",
   "execution_count": 15,
   "metadata": {},
   "outputs": [
    {
     "name": "stdout",
     "output_type": "stream",
     "text": [
      "(['A', 'B', 'idle', 'A', 'B', 'idle', 'A', 'B'], 8)\n",
      "(['C', 'D', 'A', 'B', 'A', 'B'], 6)\n",
      "(['A', 'B', 'idle', 'idle', 'A', 'B', 'idle', 'idle', 'A', 'B'], 10)\n"
     ]
    }
   ],
   "source": [
    "if __name__=='__main__':\n",
    "    s1=solution(dummy1,n1)\n",
    "    s2=solution(dummy2,n2)\n",
    "    s3=solution(dummy3,n3)\n",
    "\n",
    "    print(s1)\n",
    "    print(s2)\n",
    "    print(s3)\n"
   ]
  }
 ],
 "metadata": {
  "kernelspec": {
   "display_name": "Python 3",
   "language": "python",
   "name": "python3"
  },
  "language_info": {
   "codemirror_mode": {
    "name": "ipython",
    "version": 3
   },
   "file_extension": ".py",
   "mimetype": "text/x-python",
   "name": "python",
   "nbconvert_exporter": "python",
   "pygments_lexer": "ipython3",
   "version": "3.11.0"
  }
 },
 "nbformat": 4,
 "nbformat_minor": 2
}

{
 "cells": [
  {
   "cell_type": "markdown",
   "metadata": {},
   "source": [
    "This is exercise 1109 from <a href=\"https://leetcode.com/problems/corporate-flight-bookings/description/\">leetcode</a>"
   ]
  },
  {
   "cell_type": "code",
   "execution_count": 3,
   "metadata": {},
   "outputs": [],
   "source": [
    "def create_dict(n:int)->dict:\n",
    "    n_dict={}\n",
    "    for value in range(1,n+1):\n",
    "        n_dict[value]=0\n",
    "    return n_dict\n",
    "        "
   ]
  },
  {
   "cell_type": "code",
   "execution_count": 6,
   "metadata": {},
   "outputs": [],
   "source": [
    "n_dict=create_dict(5)"
   ]
  },
  {
   "cell_type": "code",
   "execution_count": 5,
   "metadata": {},
   "outputs": [],
   "source": [
    "def add_values(booking:list,n_dict:dict)->dict:\n",
    "    min=booking[0]\n",
    "    max=booking[1]+1\n",
    "\n",
    "    for value in range(min,max):\n",
    "        n_dict[value]+=booking[2]\n",
    "    return n_dict\n",
    "\n"
   ]
  },
  {
   "cell_type": "code",
   "execution_count": 7,
   "metadata": {},
   "outputs": [
    {
     "name": "stdout",
     "output_type": "stream",
     "text": [
      "{1: 10, 2: 55, 3: 45, 4: 25, 5: 25}\n"
     ]
    }
   ],
   "source": [
    "bookings = [[1,2,10],[2,3,20],[2,5,25]]\n",
    "for booking in bookings:\n",
    "    n_dict=add_values(booking,n_dict)\n",
    "print(n_dict)"
   ]
  },
  {
   "cell_type": "code",
   "execution_count": 13,
   "metadata": {},
   "outputs": [],
   "source": [
    "def solution(bookings:list,n:int)->dict:\n",
    "    booking_dict=create_dict(n)\n",
    "    for booking in bookings:\n",
    "        booking_dict=add_values(booking,booking_dict)\n",
    "    answer=booking_dict.values()\n",
    "    return list(answer)"
   ]
  },
  {
   "cell_type": "code",
   "execution_count": 14,
   "metadata": {},
   "outputs": [
    {
     "name": "stdout",
     "output_type": "stream",
     "text": [
      "[10, 55, 45, 25, 25]\n"
     ]
    }
   ],
   "source": [
    "a=solution(bookings,5)\n",
    "print(a)"
   ]
  },
  {
   "cell_type": "code",
   "execution_count": 15,
   "metadata": {},
   "outputs": [
    {
     "name": "stdout",
     "output_type": "stream",
     "text": [
      "[10, 25]\n"
     ]
    }
   ],
   "source": [
    "bookings2=[[1,2,10],[2,2,15]]\n",
    "n2=2\n",
    "a2=solution(bookings2,n2)\n",
    "print(a2)"
   ]
  },
  {
   "cell_type": "code",
   "execution_count": 16,
   "metadata": {},
   "outputs": [
    {
     "name": "stdout",
     "output_type": "stream",
     "text": [
      "[0, 75]\n"
     ]
    }
   ],
   "source": [
    "bookings3=[[2,2,30],[2,2,45]]\n",
    "n3=2\n",
    "a3=solution(bookings3,n3)\n",
    "print(a3)\n"
   ]
  }
 ],
 "metadata": {
  "kernelspec": {
   "display_name": "Python 3",
   "language": "python",
   "name": "python3"
  },
  "language_info": {
   "codemirror_mode": {
    "name": "ipython",
    "version": 3
   },
   "file_extension": ".py",
   "mimetype": "text/x-python",
   "name": "python",
   "nbconvert_exporter": "python",
   "pygments_lexer": "ipython3",
   "version": "3.11.0"
  }
 },
 "nbformat": 4,
 "nbformat_minor": 2
}
